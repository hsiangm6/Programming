{
 "cells": [
  {
   "cell_type": "code",
   "execution_count": 17,
   "metadata": {},
   "outputs": [
    {
     "name": "stdout",
     "output_type": "stream",
     "text": [
      "[0.71291432 0.56962044 1.30362028 1.12104519 1.76770443 0.44096761\n",
      " 1.38605719 1.38274828 1.52380078 1.53498381 1.6218932  0.28882384\n",
      " 1.79891527 0.55539577 1.76262101]\n",
      "CPU times: total: 0 ns\n",
      "Wall time: 7.68 ms\n"
     ]
    }
   ],
   "source": [
    "#1. 建立一個長度為 15 的隨機向量，每個數值介在 0~2 hint: random.rand\n",
    "import numpy as np\n",
    "ran=np.random.rand(15)*2\n",
    "print(ran)\n",
    "# ran=np.random.uniform(0,2,15)\n",
    "# print(ran)\n",
    "\n"
   ]
  },
  {
   "cell_type": "code",
   "execution_count": 20,
   "metadata": {},
   "outputs": [
    {
     "name": "stdout",
     "output_type": "stream",
     "text": [
      "[[1.92276181 2.02065348 2.90706162 3.87430226 4.77856001 0.47198777]\n",
      " [0.35582582 2.02823229 2.71208773 3.35290007 2.52862007 1.25529209]\n",
      " [1.73896012 1.208582   1.79989492 3.54806245 3.00836424 2.31158403]\n",
      " [4.29561154 1.24104617 3.34226105 0.6882724  4.81391624 1.04647228]\n",
      " [0.70460356 3.44983533 4.35972853 2.14724069 4.15975269 1.55901144]\n",
      " [2.17816756 1.18114587 1.76215357 3.24663221 0.61288342 4.16488014]]\n"
     ]
    }
   ],
   "source": [
    "#2. 建立一个 6 x 6 的矩陣，其中每個的數值介在 0~5 hint: reshape\n",
    "arr66=np.random.uniform(0, 5, 36).reshape(6, 6)\n",
    "print(arr66)"
   ]
  },
  {
   "cell_type": "code",
   "execution_count": 32,
   "metadata": {},
   "outputs": [
    {
     "name": "stdout",
     "output_type": "stream",
     "text": [
      "arr333: [[[0.05383057 0.52644241 0.24529059]\n",
      "  [0.51388528 0.27133579 0.59977987]\n",
      "  [0.80035619 0.48587969 0.45002657]]\n",
      "\n",
      " [[0.86092562 0.25684913 0.60618674]\n",
      "  [0.36542158 0.30730961 0.25490181]\n",
      "  [0.19789971 0.99486046 0.19891635]]\n",
      "\n",
      " [[0.57781369 0.62004454 0.54721464]\n",
      "  [0.63383736 0.00980788 0.09466831]\n",
      "  [0.26390258 0.48614024 0.67709772]]]\n",
      "---------\n",
      "all average: 0.4407638858199757\n",
      "---------\n",
      "axis=0: [[0.49752329 0.46777869 0.46623066]\n",
      " [0.50438141 0.19615109 0.31645   ]\n",
      " [0.42071949 0.6556268  0.44201355]]\n",
      "---------\n",
      "axis=2: [[0.27518786 0.46166698 0.57875415]\n",
      " [0.57465383 0.309211   0.46389217]\n",
      " [0.58169095 0.24610452 0.47571351]]\n"
     ]
    }
   ],
   "source": [
    "#3. 建立一個 3x3x3 的隨機矩陣，分別計算所有的、按照 axis=0、按照 axis=2 的 mean\n",
    "arr333=np.random.rand(27).reshape(3,3,3)\n",
    "print(\"arr333:\",arr333)\n",
    "print(\"---------\")\n",
    "print(\"all average:\",arr333.mean())\n",
    "print(\"---------\")\n",
    "print(\"axis=0:\",arr333.mean(axis=0))\n",
    "print(\"---------\")\n",
    "print(\"axis=2:\",arr333.mean(axis=2))"
   ]
  },
  {
   "cell_type": "code",
   "execution_count": 38,
   "metadata": {},
   "outputs": [
    {
     "name": "stdout",
     "output_type": "stream",
     "text": [
      "a1: [[9 9]\n",
      " [3 8]]\n",
      "a2: [[4 8]\n",
      " [8 2]]\n",
      "matrix multiplication: [[108  90]\n",
      " [ 76  40]]\n",
      "concatenate two array: [[9 9]\n",
      " [3 8]\n",
      " [4 8]\n",
      " [8 2]]\n",
      "concatenate two array(axis=0): [[9 9 4 8]\n",
      " [3 8 8 2]]\n"
     ]
    }
   ],
   "source": [
    "#4. 了解 reshape、dot 或任意 numpy function 的用法，並舉出兩個實際操作的例子\n",
    "#example 1: dot()\n",
    "a1=np.random.randint(0,10,(2,2))\n",
    "a2=np.random.randint(0,10,(2,2))\n",
    "print(\"a1:\",a1)\n",
    "print(\"a2:\",a2)\n",
    "matrix_multiplication=np.dot(a1,a2)\n",
    "print(\"matrix multiplication:\",matrix_multiplication)\n",
    "\n",
    "#example 2: concatenate()\n",
    "print(\"concatenate two array(axis=0):\",np.concatenate([a1,a2]))\n",
    "print(\"concatenate two array(axis=1):\",np.concatenate([a1,a2],axis=1))\n"
   ]
  }
 ],
 "metadata": {
  "interpreter": {
   "hash": "2330caffe8475757ece1594eda963f60a5e7f826f0c40053176aabc9028a77ce"
  },
  "kernelspec": {
   "display_name": "Python 3.10.2 64-bit",
   "language": "python",
   "name": "python3"
  },
  "language_info": {
   "codemirror_mode": {
    "name": "ipython",
    "version": 3
   },
   "file_extension": ".py",
   "mimetype": "text/x-python",
   "name": "python",
   "nbconvert_exporter": "python",
   "pygments_lexer": "ipython3",
   "version": "3.10.2"
  },
  "orig_nbformat": 4
 },
 "nbformat": 4,
 "nbformat_minor": 2
}
