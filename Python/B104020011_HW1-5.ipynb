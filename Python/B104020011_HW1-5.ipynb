{
 "cells": [
  {
   "cell_type": "code",
   "execution_count": 37,
   "metadata": {},
   "outputs": [
    {
     "name": "stdout",
     "output_type": "stream",
     "text": [
      "Reversed positive integer number: \n",
      "4321\n"
     ]
    }
   ],
   "source": [
    "#B104020011-危湘妤\n",
    "# reverse input number\n",
    "def revNum(num,rem=0): #make rem becomes the reverse of the num\n",
    "    if num==0:         #rem=remainder\n",
    "        return rem\n",
    "    elif num<10:\n",
    "        return revNum(num//10,(rem+num%10))\n",
    "    else:\n",
    "        return revNum(num//10,(rem+num%10)*10)\n",
    "\n",
    "count=0  \n",
    "num=int(input(\"Please enter the numbers: \")) #num= input number\n",
    "num2=num\n",
    "while num2%10==0: #count how many continuous 0s are in the suffix of the number.\n",
    "    num2//=10\n",
    "    count+=1\n",
    "print(\"Reversed positive integer number: \\n\"+\"0\"*count+str(revNum(num)))\n",
    "\n"
   ]
  }
 ],
 "metadata": {
  "interpreter": {
   "hash": "4f3b078249380ea762697f4f8f6aea77b3d6e43cbb1b18cbb73d8cde5aa597e7"
  },
  "kernelspec": {
   "display_name": "Python 3.8.9 64-bit (system)",
   "language": "python",
   "name": "python3"
  },
  "language_info": {
   "codemirror_mode": {
    "name": "ipython",
    "version": 3
   },
   "file_extension": ".py",
   "mimetype": "text/x-python",
   "name": "python",
   "nbconvert_exporter": "python",
   "pygments_lexer": "ipython3",
   "version": "3.9.5"
  },
  "orig_nbformat": 4
 },
 "nbformat": 4,
 "nbformat_minor": 2
}
