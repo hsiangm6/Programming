{
 "cells": [
  {
   "cell_type": "code",
   "execution_count": 18,
   "metadata": {},
   "outputs": [
    {
     "name": "stdout",
     "output_type": "stream",
     "text": [
      "The show time of the movie, Memory, is 2022-05-30 13:00:00\n",
      "29 days, 15:53:42.453015 before the movie, Memory.\n",
      "{'Iron man': '2022-05-30 08:00:00', 'Memory': '2022-05-30 13:00:00', 'Life For Sale': '2022-05-30 15:00:00', 'Always': '2022-06-05 13:00:00'}\n",
      "There are currently 4 movies on the movie playlist.\n"
     ]
    }
   ],
   "source": [
    "import datetime\n",
    "class Movie:\n",
    "    local_time=datetime.datetime.now() #Taiwan time when using program execution\n",
    "    def __init__(self):\n",
    "        self.movie_table={\n",
    "            \"Iron man\":\"2022-05-30 08:00:00\", \n",
    "            \"Memory\":\"2022-05-30 13:00:00\" , \n",
    "            \"Life For Sale\":\"2022-05-30 15:00:00\" }\n",
    "    \n",
    "    def add_movie(self, movie_name, movie_time): #add movie to movie_table\n",
    "        self.movie_table[movie_name]=movie_time\n",
    "\n",
    "    def find_play_time(self, name): #find the show time of the specified movie and how soon the movie will be shown\n",
    "        print(f'The show time of the movie, {name}, is {self.movie_table[name]}')\n",
    "        self.point_show_time=datetime.datetime.strptime(self.movie_table[name], \"%Y-%m-%d %H:%M:%S\")\n",
    "        if self.local_time<=self.point_show_time:\n",
    "            print(f'{self.point_show_time-self.local_time} before the movie, {name}.')\n",
    "        else:\n",
    "            print(\"Movie has played!\")\n",
    "\n",
    "    def __str__(self): #how much movies are on the movie_table\n",
    "        return f'There are currently {len(self.movie_table)} movies on the movie playlist.'\n",
    "\n",
    "movie=Movie()\n",
    "movie.add_movie('Always', '2022-06-05 13:00:00')\n",
    "#movie.add_movie(input(\"Please enter the movie name: \"), input(\"Please enter the show time of the movie (year-month-day hour:minute:second):\"))\n",
    "\n",
    "movie.find_play_time(\"Memory\")\n",
    "#movie.find_play_time(input(\"Please enter the movie name you want to know the playing time of:  \"))\n",
    "\n",
    "print(movie.movie_table)\n",
    "print(movie)\n",
    "\n"
   ]
  }
 ],
 "metadata": {
  "interpreter": {
   "hash": "23300995598eec4bcf6bd89cf02d1c3675e8b2616661418dbbf5580aa901878d"
  },
  "kernelspec": {
   "display_name": "Python 3.9.5 64-bit",
   "language": "python",
   "name": "python3"
  },
  "language_info": {
   "codemirror_mode": {
    "name": "ipython",
    "version": 3
   },
   "file_extension": ".py",
   "mimetype": "text/x-python",
   "name": "python",
   "nbconvert_exporter": "python",
   "pygments_lexer": "ipython3",
   "version": "3.9.5"
  },
  "orig_nbformat": 4
 },
 "nbformat": 4,
 "nbformat_minor": 2
}
