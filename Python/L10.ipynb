{
 "cells": [
  {
   "cell_type": "code",
   "execution_count": 9,
   "metadata": {},
   "outputs": [
    {
     "name": "stdout",
     "output_type": "stream",
     "text": [
      "matrix:\n",
      " [[1. 0. 0. 0. 0. 0.]\n",
      " [0. 2. 0. 0. 0. 0.]\n",
      " [0. 0. 3. 0. 0. 0.]\n",
      " [0. 0. 0. 4. 0. 0.]\n",
      " [0. 0. 0. 0. 5. 0.]\n",
      " [0. 0. 0. 0. 0. 6.]]\n",
      "partial:\n",
      " [[3. 0. 0.]\n",
      " [0. 4. 0.]\n",
      " [0. 0. 5.]]\n"
     ]
    }
   ],
   "source": [
    "#1. 建立一個 6x6 的矩陣，讓 1,2,3,4,5 落在對角線上，並取出部分 matrix hint:\n",
    "import numpy as np\n",
    "a=np.zeros(36).reshape(6, 6)\n",
    "for i in range(1,7):\n",
    "    a[i-1][i-1]=i\n",
    "print(\"matrix:\\n\",a)\n",
    "print(\"partial:\\n\",a[2:5, 2:5])"
   ]
  },
  {
   "cell_type": "code",
   "execution_count": 15,
   "metadata": {},
   "outputs": [
    {
     "name": "stdout",
     "output_type": "stream",
     "text": [
      "array(0~pi*2):\n",
      " [6.1624623  3.41805289 4.56558686 2.46515666 2.95399146 4.60656495\n",
      " 3.32200688 2.48349704 1.85688864 3.04310731 5.33794017 0.46214023\n",
      " 2.29090511 0.35555106 0.9548836  5.28351397 4.87211251 5.69801466\n",
      " 3.95485184 3.88485111 5.08794161]\n",
      "cos(a):\n",
      " [ 0.99272182 -0.96202765 -0.14627541 -0.7798088  -0.98245445 -0.10562662\n",
      " -0.98376945 -0.79115841 -0.28220554 -0.99515424  0.58554417  0.8951003\n",
      " -0.65946645  0.9374548   0.57770378  0.54057884  0.15904526  0.83361784\n",
      " -0.68713419 -0.73626751  0.3667867 ]\n"
     ]
    }
   ],
   "source": [
    "#2. 建立從 0 ~ pi * 2 的隨機 array，裡面包含 21 個元素，並對該陣列取 cos 或 sin\n",
    "a=np.random.rand(21)*np.pi*2\n",
    "print(\"array(0~pi*2):\\n\",a)\n",
    "print(\"cos(a):\\n\",np.cos(a))"
   ]
  },
  {
   "cell_type": "code",
   "execution_count": 20,
   "metadata": {},
   "outputs": [
    {
     "name": "stdout",
     "output_type": "stream",
     "text": [
      "a:\n",
      " [10. 12. 14. 16. 18.]\n",
      "b:\n",
      " [ 1.          5.83333333 10.66666667 15.5        20.33333333 25.16666667\n",
      " 30.        ]\n",
      "c:\n",
      " [1.00000000e+010 3.16227766e+257             inf             inf\n",
      "             inf]\n"
     ]
    }
   ],
   "source": [
    "#3. 請找一個 numpy 有關 數值運算、線性代數的函式，並附上至少兩個範例 code\n",
    "a=np.linspace(10, 20, 5, endpoint=False)   #10~20(不包含)等差的5個數\n",
    "b=np.linspace(1, 30, 7, endpoint=True)   #1~30(包含)等差的7個數\n",
    "c=np.logspace(10, 1000, 5, endpoint=True)   #10~1000(包含)等比(以10為底)的5個數\n",
    "print(\"a:\\n\",a)\n",
    "print(\"b:\\n\",b)\n",
    "print(\"c:\\n\",c)\n"
   ]
  }
 ],
 "metadata": {
  "interpreter": {
   "hash": "eb6335f86049935ab3a1e6168a640c161cd4c2d3c8bde3a37ebd86b9bd3e1c1e"
  },
  "kernelspec": {
   "display_name": "Python 3.10.2 64-bit",
   "language": "python",
   "name": "python3"
  },
  "language_info": {
   "codemirror_mode": {
    "name": "ipython",
    "version": 3
   },
   "file_extension": ".py",
   "mimetype": "text/x-python",
   "name": "python",
   "nbconvert_exporter": "python",
   "pygments_lexer": "ipython3",
   "version": "3.10.2"
  },
  "orig_nbformat": 4
 },
 "nbformat": 4,
 "nbformat_minor": 2
}
