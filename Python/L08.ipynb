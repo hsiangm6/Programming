{
 "cells": [
  {
   "cell_type": "code",
   "execution_count": 1,
   "metadata": {},
   "outputs": [
    {
     "name": "stdout",
     "output_type": "stream",
     "text": [
      "[33, 55, 77, 99]\n"
     ]
    }
   ],
   "source": [
    "#1.basic\n",
    "arr = [3, 5, 7, 9]\n",
    "output = [a * 11 for a in arr]\n",
    "print(output)"
   ]
  },
  {
   "cell_type": "code",
   "execution_count": 2,
   "metadata": {},
   "outputs": [
    {
     "name": "stdout",
     "output_type": "stream",
     "text": [
      "[4, 7, 22]\n"
     ]
    }
   ],
   "source": [
    "#2.if-else\n",
    "arr = [1, 4, 7, 10, 13, 16, 19, 22]\n",
    "output = [a for a in arr if '1' not in str(a)]\n",
    "print(output)"
   ]
  },
  {
   "cell_type": "code",
   "execution_count": 18,
   "metadata": {},
   "outputs": [
    {
     "name": "stdout",
     "output_type": "stream",
     "text": [
      "['2 is prime', '3 is prime', '5 is prime', '7 is prime', '11 is prime', '13 is prime', '17 is prime', '19 is prime', '23 is prime', '29 is prime', '31 is prime', '37 is prime', '41 is prime', '43 is prime', '47 is prime', '53 is prime', '59 is prime', '61 is prime', '67 is prime', '71 is prime', '73 is prime', '79 is prime', '83 is prime', '89 is prime', '97 is prime']\n",
      "has 25\n"
     ]
    }
   ],
   "source": [
    "#3.complex\n",
    "arr = list(range(1, 101))\n",
    "\n",
    "def is_prime(n):\n",
    "    for j in range(2,n//2+1):\n",
    "        if n%j==0:\n",
    "            return False\n",
    "    return True if n!=1 else False\n",
    "\n",
    "output = ['{} is prime'.format(a)   for a in arr    if is_prime(a)]\n",
    "# 把上面三行改成一個 comprehension\n",
    "\n",
    "print(output)\n",
    "print('has', len(output))"
   ]
  },
  {
   "cell_type": "code",
   "execution_count": 19,
   "metadata": {},
   "outputs": [
    {
     "name": "stdout",
     "output_type": "stream",
     "text": [
      "{'Magic': 'Luby', 'Marvel': 'Nancy', 'Tradition': 'Tom'}\n"
     ]
    }
   ],
   "source": [
    "#4. dict comprehension\n",
    "novel={\"Marvel\", \"Magic\", \"Tradition\"}\n",
    "writer={\"Nancy\", \"Tom\", \"Luby\"}\n",
    "list={n: v for n,v in zip(novel, writer) }\n",
    "print(list)"
   ]
  }
 ],
 "metadata": {
  "interpreter": {
   "hash": "2330caffe8475757ece1594eda963f60a5e7f826f0c40053176aabc9028a77ce"
  },
  "kernelspec": {
   "display_name": "Python 3.10.2 64-bit",
   "language": "python",
   "name": "python3"
  },
  "language_info": {
   "codemirror_mode": {
    "name": "ipython",
    "version": 3
   },
   "file_extension": ".py",
   "mimetype": "text/x-python",
   "name": "python",
   "nbconvert_exporter": "python",
   "pygments_lexer": "ipython3",
   "version": "3.10.2"
  },
  "orig_nbformat": 4
 },
 "nbformat": 4,
 "nbformat_minor": 2
}
