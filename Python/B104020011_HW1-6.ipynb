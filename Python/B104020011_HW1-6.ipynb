{
 "cells": [
  {
   "cell_type": "code",
   "execution_count": 16,
   "metadata": {},
   "outputs": [
    {
     "name": "stdout",
     "output_type": "stream",
     "text": [
      "There is an array: [-40, -2, 1, 4, 6, 6, 10]\n",
      "Output:-40\n"
     ]
    }
   ],
   "source": [
    "#B104020011-危湘妤\n",
    "#find the number in the list that is cloest number with the input number \n",
    "def closestNum(arr,ent):\n",
    "    arr=arr+[ent] #add input to the list\n",
    "    arr.sort() #sort list from small to large\n",
    "    entInd=arr.index(ent) #the index of the input number in the list \n",
    "\n",
    "    if(arr[entInd] == max(arr)): #prevent list index out of rang\n",
    "        print(f\"Output:{arr[entInd-1]}\")\n",
    "    elif(arr[entInd] == min(arr)):\n",
    "        print(f\"Output:{arr[entInd+1]}\")\n",
    "\n",
    "    elif((arr[entInd+1]-arr[entInd])>=(arr[entInd]-arr[entInd-1])): #compare the distance between input to previous number and input to next number\n",
    "        print(f\"Output:{arr[entInd-1]}\")\n",
    "    else:\n",
    "        print(f\"Output:{arr[entInd+1]}\")\n",
    "\n",
    "print(\"There is an array: [-40, -2, 1, 4, 6, 6, 10]\")\n",
    "arr=[-40, -2, 1, 4, 6, 6, 10]\n",
    "ent=int(input(\"Enter a target number:\"))\n",
    "closestNum(arr,ent)"
   ]
  }
 ],
 "metadata": {
  "interpreter": {
   "hash": "23300995598eec4bcf6bd89cf02d1c3675e8b2616661418dbbf5580aa901878d"
  },
  "kernelspec": {
   "display_name": "Python 3.9.5 64-bit",
   "language": "python",
   "name": "python3"
  },
  "language_info": {
   "codemirror_mode": {
    "name": "ipython",
    "version": 3
   },
   "file_extension": ".py",
   "mimetype": "text/x-python",
   "name": "python",
   "nbconvert_exporter": "python",
   "pygments_lexer": "ipython3",
   "version": "3.9.5"
  },
  "orig_nbformat": 4
 },
 "nbformat": 4,
 "nbformat_minor": 2
}
