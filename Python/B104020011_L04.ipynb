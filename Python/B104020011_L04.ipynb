{
 "cells": [
  {
   "cell_type": "code",
   "execution_count": 14,
   "metadata": {},
   "outputs": [
    {
     "name": "stdout",
     "output_type": "stream",
     "text": [
      "You are rank #3 right now\n",
      "    dragon 100\n",
      "      meng  90\n",
      "  bijljjkk  78\n",
      "  Hsuan Ju  59\n",
      "   yihuang  10\n"
     ]
    }
   ],
   "source": [
    "#B104020011-危湘妤\n",
    "names = ['dragon', 'meng', 'Hsuan Ju', 'yihuang']\n",
    "scores = [100, 90, 59, 10]\n",
    "\n",
    "newName=input('Please input your name: ')\n",
    "newScore=int(input('Please input your score: '))\n",
    "names=names+[newName]\n",
    "scores=scores+[newScore]\n",
    "\n",
    "scores.sort(reverse=True)\n",
    "rank=scores.index(newScore)\n",
    "names.insert(rank,newName)\n",
    "print(end=\"\")\n",
    "print(f\"You are rank #{rank+1} right now\")\n",
    "for name, score in zip(names,scores):\n",
    "    print(f\"{name:>10s} {score:>3d}\")\n",
    "\n",
    "# ===== 放入對的位置，找到排名 =====\n",
    "\n",
    "# .append and .sort\n",
    "\n",
    "#rank = ... # 用 .index 找到他排第幾名\n",
    "\n",
    "# ===== 插入並顯示 =====\n",
    "\n",
    "#names.insert(...) # 把名字塞到對的位置\n",
    "\n",
    "# 通通印出來\n",
    "# 最少要印名字出來，請幫我字串長度設定為 10 + 靠右對齊"
   ]
  }
 ],
 "metadata": {
  "interpreter": {
   "hash": "2330caffe8475757ece1594eda963f60a5e7f826f0c40053176aabc9028a77ce"
  },
  "kernelspec": {
   "display_name": "Python 3.10.2 64-bit",
   "language": "python",
   "name": "python3"
  },
  "language_info": {
   "codemirror_mode": {
    "name": "ipython",
    "version": 3
   },
   "file_extension": ".py",
   "mimetype": "text/x-python",
   "name": "python",
   "nbconvert_exporter": "python",
   "pygments_lexer": "ipython3",
   "version": "3.10.2"
  },
  "orig_nbformat": 4
 },
 "nbformat": 4,
 "nbformat_minor": 2
}
