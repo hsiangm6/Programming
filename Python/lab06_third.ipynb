{
 "cells": [
  {
   "cell_type": "markdown",
   "metadata": {},
   "source": [
    "Pandas \n",
    "功能:\n",
    "1.有效率的對資料進行篩選和分析\n",
    "2.主要分成兩類:一維(series)、二維(dataframes)\n",
    "3.快速對資料進行前置處理\n",
    "4.能從檔案中輸入資料，處理好後再進行輸出\n",
    "(在excel的操作都可以透過pandas的函式做簡單的處理)\n",
    "EX:\n",
    "data.describe():查看資料平均值、分布情況、是否有資料傾斜\n"
   ]
  },
  {
   "cell_type": "code",
   "execution_count": 3,
   "metadata": {},
   "outputs": [
    {
     "name": "stdout",
     "output_type": "stream",
     "text": [
      "Max: 5\n",
      "Median: 3.0\n",
      "   name         movie\n",
      "0  Tony      Iron man\n",
      "1  John    Spider man\n",
      "2   Amy  What's wrong\n",
      "----------\n",
      "0        Iron man\n",
      "1      Spider man\n",
      "2    What's wrong\n",
      "Name: movie, dtype: object\n",
      "----------\n",
      "name           John\n",
      "movie    Spider man\n",
      "Name: 1, dtype: object\n"
     ]
    }
   ],
   "source": [
    "import pandas as pd\n",
    "data_series=pd.Series([1,2,3,4,5])\n",
    "print(f'Max: {data_series.max()}') #最大值\n",
    "print(f'Median: {data_series.median()}') #中位數\n",
    "data_dataframes=pd.DataFrame({\n",
    "    \"name\":[\"Tony\", \"John\", \"Amy\"],\n",
    "    \"movie\":[\"Iron man\", \"Spider man\", \"What's wrong\"]\n",
    "})\n",
    "print(data_dataframes)\n",
    "print(\"----------\")\n",
    "print(data_dataframes[\"movie\"])\n",
    "print(\"----------\")\n",
    "print(data_dataframes.iloc[1])"
   ]
  }
 ],
 "metadata": {
  "interpreter": {
   "hash": "2330caffe8475757ece1594eda963f60a5e7f826f0c40053176aabc9028a77ce"
  },
  "kernelspec": {
   "display_name": "Python 3.10.2 64-bit",
   "language": "python",
   "name": "python3"
  },
  "language_info": {
   "codemirror_mode": {
    "name": "ipython",
    "version": 3
   },
   "file_extension": ".py",
   "mimetype": "text/x-python",
   "name": "python",
   "nbconvert_exporter": "python",
   "pygments_lexer": "ipython3",
   "version": "3.10.2"
  },
  "orig_nbformat": 4
 },
 "nbformat": 4,
 "nbformat_minor": 2
}
